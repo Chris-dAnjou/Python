{
 "cells": [
  {
   "cell_type": "code",
   "execution_count": null,
   "metadata": {},
   "outputs": [],
   "source": [
    "import math\n",
    "\n",
    "# calculates as-the-crow-flies distance between points on the globe. \n",
    "\n",
    "print(\"Enter the latitude and longitude for the origin and destination. \\n Use decimal numbers, rather than degrees, hours and minutes.\")\n",
    "\n",
    "LatOrig = input(\"Origin latitude: \") \n",
    "LongOrig = input(\"Origin longitude: \")\n",
    "LatDest = input(\"Destination latitude: \")\n",
    "LongDest = input(\"Destination longitude: \")\n",
    "\n",
    "\n",
    "LatA = float(LatOrig) * math.pi/180\n",
    "LongA = float(LongOrig) * math.pi/180\n",
    "LatB = float(LatDest) * math.pi/180\n",
    "LongB = float(LongDest) * math.pi/180\n",
    "\n",
    "D = 3959 * math.acos((math.sin(LatA)*math.sin(LatB))+(math.cos(LatA)*math.cos(LatB)*math.cos(LongA-LongB)))\n",
    "print(\"The distance between these points is\", int(D), \"miles\")"
   ]
  },
  {
   "cell_type": "code",
   "execution_count": null,
   "metadata": {},
   "outputs": [],
   "source": []
  }
 ],
 "metadata": {
  "kernelspec": {
   "display_name": "Python 3",
   "language": "python",
   "name": "python3"
  },
  "language_info": {
   "codemirror_mode": {
    "name": "ipython",
    "version": 3
   },
   "file_extension": ".py",
   "mimetype": "text/x-python",
   "name": "python",
   "nbconvert_exporter": "python",
   "pygments_lexer": "ipython3",
   "version": "3.7.3"
  }
 },
 "nbformat": 4,
 "nbformat_minor": 2
}
